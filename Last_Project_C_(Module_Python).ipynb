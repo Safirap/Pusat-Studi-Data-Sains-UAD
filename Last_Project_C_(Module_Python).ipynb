{
  "nbformat": 4,
  "nbformat_minor": 0,
  "metadata": {
    "colab": {
      "name": "Last Project C (Module Python)",
      "provenance": [],
      "authorship_tag": "ABX9TyPHLT+D2JUTdimPFl+MVooR",
      "include_colab_link": true
    },
    "kernelspec": {
      "name": "python3",
      "display_name": "Python 3"
    }
  },
  "cells": [
    {
      "cell_type": "markdown",
      "metadata": {
        "id": "view-in-github",
        "colab_type": "text"
      },
      "source": [
        "<a href=\"https://colab.research.google.com/github/Safirap/Pusat-Studi-Data-Sains-UAD/blob/main/Last_Project_C_(Module_Python).ipynb\" target=\"_parent\"><img src=\"https://colab.research.google.com/assets/colab-badge.svg\" alt=\"Open In Colab\"/></a>"
      ]
    },
    {
      "cell_type": "code",
      "metadata": {
        "colab": {
          "base_uri": "https://localhost:8080/"
        },
        "id": "SV-7gT3gcskV",
        "outputId": "98eb16c6-7416-4736-c538-897af73c532a"
      },
      "source": [
        "print(\"Menghitung Volume Setengah Bola dan Kerucut\")\r\n",
        "r = eval(input(\"Masukkan Jari-Jari : \"))\r\n",
        "t = eval(input(\"Masukkan Tinggi: \"))\r\n",
        "#1.Volume setengah bola\r\n",
        "def volume_setengah_bola(r):\r\n",
        "  volume = 2/3*22/7*(r**3)\r\n",
        "  return volume\r\n",
        "  \r\n",
        "#2.Volume Kerucut\r\n",
        "def volume_kerucut(r,t):\r\n",
        "  volume = 1/3*22/7*(r**2)*t\r\n",
        "  return volume\r\n",
        "\r\n",
        "#3.Volume Gabungan\r\n",
        "def volume_gabungan(r,t):\r\n",
        "  volume1 = volume_setengah_bola(r)\r\n",
        "  volume2 = volume_kerucut(r,t)\r\n",
        "  volume = volume1+volume2\r\n",
        "  return volume\r\n",
        "\r\n",
        "print()\r\n",
        "\r\n",
        "print(\"Volume Setengah Bola :\",volume_setengah_bola(r))\r\n",
        "print(\"Volume Kerucut :\",volume_kerucut(r,t))\r\n",
        "print(\"Volume Gabungan :\",volume_gabungan(r,t))"
      ],
      "execution_count": 1,
      "outputs": [
        {
          "output_type": "stream",
          "text": [
            "Menghitung Volume Setengah Bola dan Kerucut\n",
            "Masukkan Jari-Jari : 14\n",
            "Masukkan Tinggi: 7\n",
            "\n",
            "Volume Setengah Bola : 5749.333333333334\n",
            "Volume Kerucut : 1437.3333333333335\n",
            "Volume Gabungan : 7186.666666666668\n"
          ],
          "name": "stdout"
        }
      ]
    }
  ]
}