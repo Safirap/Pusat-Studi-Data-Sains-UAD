{
  "nbformat": 4,
  "nbformat_minor": 0,
  "metadata": {
    "colab": {
      "name": "Tugas Akhir B - Safira Puspitasari - 1800015080",
      "provenance": [],
      "authorship_tag": "ABX9TyNq5n+38n0HCirRO3zuIA7j",
      "include_colab_link": true
    },
    "kernelspec": {
      "name": "python3",
      "display_name": "Python 3"
    }
  },
  "cells": [
    {
      "cell_type": "markdown",
      "metadata": {
        "id": "view-in-github",
        "colab_type": "text"
      },
      "source": [
        "<a href=\"https://colab.research.google.com/github/Safirap/Pusat-Studi-Data-Sains-UAD/blob/main/Tugas_Akhir_B_Safira_Puspitasari_1800015080.ipynb\" target=\"_parent\"><img src=\"https://colab.research.google.com/assets/colab-badge.svg\" alt=\"Open In Colab\"/></a>"
      ]
    },
    {
      "cell_type": "code",
      "metadata": {
        "colab": {
          "base_uri": "https://localhost:8080/"
        },
        "id": "B12Lo02Dr7c_",
        "outputId": "6d42e5ef-f013-4b85-b854-6bee9e29c672"
      },
      "source": [
        "print(\"Menghitung Volume Setengah Bola dan Kerucut\")\r\n",
        "r = eval(input(\"Masukkan Jari-Jari : \"))\r\n",
        "t = eval(input(\"Masukkan Tinggi: \"))\r\n",
        "#1.Volume setengah bola\r\n",
        "def volume_setengah_bola(r):\r\n",
        "  volume = 2/3*22/7*(r**3)\r\n",
        "  return volume\r\n",
        "  \r\n",
        "#2.Volume Kerucut\r\n",
        "def volume_kerucut(r,t):\r\n",
        "  volume = 1/3*22/7*(r**2)*t\r\n",
        "  return volume\r\n",
        "\r\n",
        "#3.Volume Gabungan\r\n",
        "def volume_gabungan(r,t):\r\n",
        "  volume1 = volume_setengah_bola(r)\r\n",
        "  volume2 = volume_kerucut(r,t)\r\n",
        "  volume = volume1+volume2\r\n",
        "  return volume\r\n",
        "\r\n",
        "print()\r\n",
        "\r\n",
        "print(\"Volume Setengah Bola :\",volume_setengah_bola(r))\r\n",
        "print(\"Volume Kerucut :\",volume_kerucut(r,t))\r\n",
        "print(\"Volume Gabungan :\",volume_gabungan(r,t))"
      ],
      "execution_count": 1,
      "outputs": [
        {
          "output_type": "stream",
          "text": [
            "Menghitung Volume Setengah Bola dan Kerucut\n",
            "Masukkan Jari-Jari : 7\n",
            "Masukkan Tinggi: 14\n",
            "\n",
            "Volume Setengah Bola : 718.6666666666667\n",
            "Volume Kerucut : 718.6666666666667\n",
            "Volume Gabungan : 1437.3333333333335\n"
          ],
          "name": "stdout"
        }
      ]
    }
  ]
}